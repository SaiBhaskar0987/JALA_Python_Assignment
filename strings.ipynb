{
 "cells": [
  {
   "cell_type": "code",
   "execution_count": 1,
   "id": "b8f5a6df",
   "metadata": {},
   "outputs": [
    {
     "name": "stdout",
     "output_type": "stream",
     "text": [
      "Hello World Multiline\n",
      "String\n"
     ]
    }
   ],
   "source": [
    "# 1. Different ways creating a string \n",
    "s1 = \"Hello\"\n",
    "s2 = str(\"World\")\n",
    "s3 = '''Multiline\n",
    "String'''\n",
    "print(s1, s2, s3)"
   ]
  },
  {
   "cell_type": "code",
   "execution_count": 2,
   "id": "a9110a48",
   "metadata": {},
   "outputs": [
    {
     "name": "stdout",
     "output_type": "stream",
     "text": [
      "Hello World\n"
     ]
    }
   ],
   "source": [
    "# 2. Concatenating two strings using + operator \n",
    "s4 = s1 + \" \" + s2\n",
    "print(s4)"
   ]
  },
  {
   "cell_type": "code",
   "execution_count": 3,
   "id": "489045cc",
   "metadata": {},
   "outputs": [
    {
     "name": "stdout",
     "output_type": "stream",
     "text": [
      "11\n"
     ]
    }
   ],
   "source": [
    "# 3. Finding the length of the string \n",
    "print(len(s4))"
   ]
  },
  {
   "cell_type": "code",
   "execution_count": 4,
   "id": "133be1bf",
   "metadata": {},
   "outputs": [
    {
     "name": "stdout",
     "output_type": "stream",
     "text": [
      "Hello\n"
     ]
    }
   ],
   "source": [
    "# 4. Extract a string using Substring \n",
    "print(s4[0:5])  # 'Hello'"
   ]
  },
  {
   "cell_type": "code",
   "execution_count": 5,
   "id": "708af038",
   "metadata": {},
   "outputs": [
    {
     "name": "stdout",
     "output_type": "stream",
     "text": [
      "6\n"
     ]
    }
   ],
   "source": [
    "# 5. Searching in strings using index() \n",
    "print(s4.index(\"World\"))"
   ]
  },
  {
   "cell_type": "code",
   "execution_count": 6,
   "id": "406214c8",
   "metadata": {},
   "outputs": [
    {
     "name": "stdout",
     "output_type": "stream",
     "text": [
      "True\n"
     ]
    }
   ],
   "source": [
    "# 6. Matching a String Against a Regular Expression With matches() \n",
    "import re\n",
    "print(bool(re.fullmatch(r'[A-Z][a-z]+', \"Hello\")))"
   ]
  },
  {
   "cell_type": "code",
   "execution_count": 7,
   "id": "fe3f9c6c",
   "metadata": {},
   "outputs": [
    {
     "name": "stdout",
     "output_type": "stream",
     "text": [
      "False\n",
      "True\n"
     ]
    }
   ],
   "source": [
    "# 7. Comparing strings  \n",
    "a = \"apple\"\n",
    "b = \"Apple\"\n",
    "print(a == b)\n",
    "print(a.lower() == b.lower())"
   ]
  },
  {
   "cell_type": "code",
   "execution_count": 8,
   "id": "0274b2ef",
   "metadata": {},
   "outputs": [
    {
     "name": "stdout",
     "output_type": "stream",
     "text": [
      "True\n",
      "True\n",
      "1\n"
     ]
    }
   ],
   "source": [
    "# 8. startsWith(), endsWith() and compareTo() \n",
    "print(a.startswith(\"app\"))\n",
    "print(a.endswith(\"le\"))\n",
    "print((a > b) - (a < b))"
   ]
  },
  {
   "cell_type": "code",
   "execution_count": 9,
   "id": "297a335d",
   "metadata": {},
   "outputs": [
    {
     "name": "stdout",
     "output_type": "stream",
     "text": [
      "spaced text\n"
     ]
    }
   ],
   "source": [
    "# 9. Trimming strings with strip() \n",
    "s5 = \"   spaced text   \"\n",
    "print(s5.strip())"
   ]
  },
  {
   "cell_type": "code",
   "execution_count": 10,
   "id": "c9b04a65",
   "metadata": {},
   "outputs": [
    {
     "name": "stdout",
     "output_type": "stream",
     "text": [
      "abble\n"
     ]
    }
   ],
   "source": [
    "# 10. Replacing characters in strings with replace() \n",
    "print(a.replace(\"p\", \"b\"))"
   ]
  },
  {
   "cell_type": "code",
   "execution_count": 11,
   "id": "cbda0e2b",
   "metadata": {},
   "outputs": [
    {
     "name": "stdout",
     "output_type": "stream",
     "text": [
      "['one', 'two', 'three']\n"
     ]
    }
   ],
   "source": [
    "# 11. Splitting strings with split() \n",
    "s6 = \"one,two,three\"\n",
    "print(s6.split(\",\"))"
   ]
  },
  {
   "cell_type": "code",
   "execution_count": 12,
   "id": "638cc84d",
   "metadata": {},
   "outputs": [
    {
     "name": "stdout",
     "output_type": "stream",
     "text": [
      "123 <class 'str'>\n"
     ]
    }
   ],
   "source": [
    "# 12. Converting integer objects to Strings \n",
    "num = 123\n",
    "str_num = str(num)\n",
    "print(str_num, type(str_num))"
   ]
  },
  {
   "cell_type": "code",
   "execution_count": 13,
   "id": "16f14cdd",
   "metadata": {},
   "outputs": [
    {
     "name": "stdout",
     "output_type": "stream",
     "text": [
      "APPLE\n",
      "apple\n"
     ]
    }
   ],
   "source": [
    "# 13. Converting to uppercase and lowercase \n",
    "print(a.upper())\n",
    "print(b.lower())"
   ]
  }
 ],
 "metadata": {
  "kernelspec": {
   "display_name": "Python 3",
   "language": "python",
   "name": "python3"
  },
  "language_info": {
   "codemirror_mode": {
    "name": "ipython",
    "version": 3
   },
   "file_extension": ".py",
   "mimetype": "text/x-python",
   "name": "python",
   "nbconvert_exporter": "python",
   "pygments_lexer": "ipython3",
   "version": "3.12.10"
  }
 },
 "nbformat": 4,
 "nbformat_minor": 5
}
