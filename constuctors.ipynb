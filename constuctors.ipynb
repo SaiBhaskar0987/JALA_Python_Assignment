{
 "cells": [
  {
   "cell_type": "code",
   "execution_count": 1,
   "id": "8ca5972a",
   "metadata": {},
   "outputs": [],
   "source": [
    "# 1. Write a class with a default constructor, one argument constructor and two argument constructors.\n",
    "class MyClass:\n",
    "    def __init__(self, a=None, b=None):\n",
    "        if a is None and b is None:\n",
    "            print(\"Default constructor\")\n",
    "        elif b is None:\n",
    "            print(\"One-argument constructor:\", a)\n",
    "        else:\n",
    "            print(\"Two-argument constructor:\", a, b)"
   ]
  },
  {
   "cell_type": "code",
   "execution_count": 2,
   "id": "acdf09da",
   "metadata": {},
   "outputs": [],
   "source": [
    "# 2. Call the constructors(both default and argument constructors) of super class from a child class\n",
    "class Parent:\n",
    "    def __init__(self, value=None):\n",
    "        if value is None:\n",
    "            print(\"Parent default constructor\")\n",
    "        else:\n",
    "            print(\"Parent argument constructor:\", value)\n",
    "\n",
    "class Child(Parent):\n",
    "    def __init__(self, value=None):\n",
    "        if value is None:\n",
    "            super().__init__()\n",
    "        else:\n",
    "            super().__init__(value)\n",
    "        print(\"Child constructor\")\n"
   ]
  },
  {
   "cell_type": "code",
   "execution_count": 3,
   "id": "2201dbbf",
   "metadata": {},
   "outputs": [],
   "source": [
    "# 3. Apply private, public, protected and default access modifiers to the constructor\n",
    "class ModifierExample:\n",
    "    def __init__(self):\n",
    "        print(\"Public constructor\")\n",
    "    def _protected_constructor(self):\n",
    "        print(\"Protected constructor\")\n",
    "    def __private_constructor(self):\n",
    "        print(\"Private constructor\")"
   ]
  },
  {
   "cell_type": "code",
   "execution_count": 4,
   "id": "46b9437a",
   "metadata": {},
   "outputs": [
    {
     "name": "stdout",
     "output_type": "stream",
     "text": [
      "Default constructor\n",
      "One-argument constructor: 10\n",
      "Two-argument constructor: 10 20\n",
      "Parent default constructor\n",
      "Child constructor\n",
      "Parent argument constructor: hello\n",
      "Child constructor\n",
      "Public constructor\n",
      "Protected constructor\n",
      "Name: Alice, Age: 25\n"
     ]
    }
   ],
   "source": [
    "# 4. Write a program which illustrates the concept of attributes of a constructor.\n",
    "class AttributeExample:\n",
    "    def __init__(self, name, age):\n",
    "        self.name = name\n",
    "        self.age = age\n",
    "    def display(self):\n",
    "        print(f\"Name: {self.name}, Age: {self.age}\")\n",
    "\n",
    "def main():\n",
    "    obj1 = MyClass()\n",
    "    obj2 = MyClass(10)\n",
    "    obj3 = MyClass(10, 20)\n",
    "\n",
    "    c1 = Child()\n",
    "    c2 = Child(\"hello\")\n",
    "\n",
    "    mod = ModifierExample()\n",
    "    mod._protected_constructor()\n",
    "    # mod.__private_constructor()  # Not accessible directly\n",
    "\n",
    "    attr_obj = AttributeExample(\"Alice\", 25)\n",
    "    attr_obj.display()\n",
    "\n",
    "if __name__ == \"__main__\":\n",
    "    main()\n"
   ]
  }
 ],
 "metadata": {
  "kernelspec": {
   "display_name": "Python 3",
   "language": "python",
   "name": "python3"
  },
  "language_info": {
   "codemirror_mode": {
    "name": "ipython",
    "version": 3
   },
   "file_extension": ".py",
   "mimetype": "text/x-python",
   "name": "python",
   "nbconvert_exporter": "python",
   "pygments_lexer": "ipython3",
   "version": "3.12.10"
  }
 },
 "nbformat": 4,
 "nbformat_minor": 5
}
