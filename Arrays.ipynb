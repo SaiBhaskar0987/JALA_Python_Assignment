{
 "cells": [
  {
   "cell_type": "code",
   "execution_count": 2,
   "id": "ee4d1383",
   "metadata": {},
   "outputs": [
    {
     "name": "stdout",
     "output_type": "stream",
     "text": [
      "10\n"
     ]
    }
   ],
   "source": [
    "# 1. Write a function to add integer values of an array\n",
    "def sum_array(arr):\n",
    "    return sum(arr)\n",
    "print(sum_array([1, 2, 3, 4]))"
   ]
  },
  {
   "cell_type": "code",
   "execution_count": 19,
   "id": "3dac0617",
   "metadata": {},
   "outputs": [
    {
     "name": "stdout",
     "output_type": "stream",
     "text": [
      "2.5\n"
     ]
    }
   ],
   "source": [
    "# 2. Write a function to calculate the average value of an array of integers\n",
    "def average_array(arr):\n",
    "    return sum(arr) / len(arr) if arr else 0\n",
    "print(average_array([1, 2, 3, 4]))"
   ]
  },
  {
   "cell_type": "code",
   "execution_count": 3,
   "id": "d195b430",
   "metadata": {},
   "outputs": [
    {
     "name": "stdout",
     "output_type": "stream",
     "text": [
      "1\n"
     ]
    }
   ],
   "source": [
    "# 3. Write a program to find the index of an array element\n",
    "def find_index(arr, value):\n",
    "    return arr.index(value) if value in arr else -1\n",
    "print(find_index([5, 8, 10], 8))"
   ]
  },
  {
   "cell_type": "code",
   "execution_count": 4,
   "id": "bac0e9a1",
   "metadata": {},
   "outputs": [
    {
     "name": "stdout",
     "output_type": "stream",
     "text": [
      "True\n"
     ]
    }
   ],
   "source": [
    "# 4. Write a function to test if array contains a specific value\n",
    "def contains_value(arr, value):\n",
    "    return value in arr\n",
    "print(contains_value([2, 4, 6], 4))"
   ]
  },
  {
   "cell_type": "code",
   "execution_count": 5,
   "id": "dee4a510",
   "metadata": {},
   "outputs": [
    {
     "name": "stdout",
     "output_type": "stream",
     "text": [
      "[1, 3]\n"
     ]
    }
   ],
   "source": [
    "# 5. Write a function to remove a specific element from an array\n",
    "def remove_element(arr, value):\n",
    "    return [x for x in arr if x != value]\n",
    "print(remove_element([1, 2, 3, 2], 2))"
   ]
  },
  {
   "cell_type": "code",
   "execution_count": 6,
   "id": "8f969d46",
   "metadata": {},
   "outputs": [
    {
     "name": "stdout",
     "output_type": "stream",
     "text": [
      "[1, 2, 3]\n"
     ]
    }
   ],
   "source": [
    "# 6. Write a function to copy an array to another array\n",
    "def copy_array(arr):\n",
    "    return arr.copy()\n",
    "print(copy_array([1, 2, 3]))"
   ]
  },
  {
   "cell_type": "code",
   "execution_count": 7,
   "id": "b71fd521",
   "metadata": {},
   "outputs": [
    {
     "name": "stdout",
     "output_type": "stream",
     "text": [
      "[10, 15, 20, 30]\n"
     ]
    }
   ],
   "source": [
    "# 7. Write a function to insert an element at a specific position in the array\n",
    "def insert_element(arr, index, value):\n",
    "    arr.insert(index, value)\n",
    "    return arr\n",
    "print(insert_element([10, 20, 30], 1, 15))"
   ]
  },
  {
   "cell_type": "code",
   "execution_count": 8,
   "id": "55d28d31",
   "metadata": {},
   "outputs": [
    {
     "name": "stdout",
     "output_type": "stream",
     "text": [
      "(1, 9)\n"
     ]
    }
   ],
   "source": [
    "# 8. Write a function to find the minimum and maximum value of an array\n",
    "def min_max_array(arr):\n",
    "    return min(arr), max(arr)\n",
    "print(min_max_array([4, 7, 1, 9]))"
   ]
  },
  {
   "cell_type": "code",
   "execution_count": 9,
   "id": "8ad2a974",
   "metadata": {},
   "outputs": [
    {
     "name": "stdout",
     "output_type": "stream",
     "text": [
      "[3, 2, 1]\n"
     ]
    }
   ],
   "source": [
    "# 9. Write a function to reverse an array of integer values\n",
    "def reverse_array(arr):\n",
    "    return arr[::-1]\n",
    "print(reverse_array([1, 2, 3]))"
   ]
  },
  {
   "cell_type": "code",
   "execution_count": 10,
   "id": "d64ab5f9",
   "metadata": {},
   "outputs": [
    {
     "name": "stdout",
     "output_type": "stream",
     "text": [
      "[2, 4]\n"
     ]
    }
   ],
   "source": [
    "# 10. Write a function to find the duplicate values of an array\n",
    "def find_duplicates(arr):\n",
    "    return list(set([x for x in arr if arr.count(x) > 1]))\n",
    "print(find_duplicates([1, 2, 2, 3, 4, 4]))"
   ]
  },
  {
   "cell_type": "code",
   "execution_count": 11,
   "id": "30486499",
   "metadata": {},
   "outputs": [
    {
     "name": "stdout",
     "output_type": "stream",
     "text": [
      "[2, 3]\n"
     ]
    }
   ],
   "source": [
    "# 11. Write a program to find the common values between two arrays\n",
    "def common_values(arr1, arr2):\n",
    "    return list(set(arr1) & set(arr2))\n",
    "print(common_values([1, 2, 3], [2, 3, 4]))"
   ]
  },
  {
   "cell_type": "code",
   "execution_count": 12,
   "id": "e68d1839",
   "metadata": {},
   "outputs": [
    {
     "name": "stdout",
     "output_type": "stream",
     "text": [
      "[1, 2, 3]\n"
     ]
    }
   ],
   "source": [
    "# 12. Write a method to remove duplicate elements from an array\n",
    "def remove_duplicates(arr):\n",
    "    return list(set(arr))\n",
    "print(remove_duplicates([1, 1, 2, 3, 3]))"
   ]
  },
  {
   "cell_type": "code",
   "execution_count": 13,
   "id": "93dbe517",
   "metadata": {},
   "outputs": [
    {
     "name": "stdout",
     "output_type": "stream",
     "text": [
      "6\n"
     ]
    }
   ],
   "source": [
    "# 13. Write a method to find the second largest number in an array\n",
    "def second_largest(arr):\n",
    "    unique = list(set(arr))\n",
    "    unique.sort()\n",
    "    return unique[-2] if len(unique) >= 2 else None\n",
    "print(second_largest([5, 1, 9, 6, 9]))"
   ]
  },
  {
   "cell_type": "code",
   "execution_count": 14,
   "id": "767fce06",
   "metadata": {},
   "outputs": [
    {
     "name": "stdout",
     "output_type": "stream",
     "text": [
      "9\n"
     ]
    }
   ],
   "source": [
    "# 14. Write a method to find the second largest number in an array\n",
    "def second_largest_v2(arr):\n",
    "    first = second = float('-inf')\n",
    "    for num in arr:\n",
    "        if num > first:\n",
    "            second = first\n",
    "            first = num\n",
    "        elif first > num > second:\n",
    "            second = num\n",
    "    return second if second != float('-inf') else None\n",
    "print(second_largest_v2([5, 9, 11, 11, 6]))"
   ]
  },
  {
   "cell_type": "code",
   "execution_count": 15,
   "id": "071f4745",
   "metadata": {},
   "outputs": [
    {
     "name": "stdout",
     "output_type": "stream",
     "text": [
      "(3, 3)\n"
     ]
    }
   ],
   "source": [
    "# 15. Write a method to find number of even number and odd numbers in an array\n",
    "def count_even_odd(arr):\n",
    "    even = sum(1 for x in arr if x % 2 == 0)\n",
    "    odd = len(arr) - even\n",
    "    return even, odd\n",
    "print(count_even_odd([1, 2, 3, 4, 5, 6]))"
   ]
  },
  {
   "cell_type": "code",
   "execution_count": 16,
   "id": "440be181",
   "metadata": {},
   "outputs": [
    {
     "name": "stdout",
     "output_type": "stream",
     "text": [
      "9\n"
     ]
    }
   ],
   "source": [
    "# 16. Write a function to get the difference of largest and smallest value\n",
    "def diff_max_min(arr):\n",
    "    return max(arr) - min(arr)\n",
    "print(diff_max_min([10, 3, 7, 1]))"
   ]
  },
  {
   "cell_type": "code",
   "execution_count": 17,
   "id": "33a45f0a",
   "metadata": {},
   "outputs": [
    {
     "name": "stdout",
     "output_type": "stream",
     "text": [
      "True\n"
     ]
    }
   ],
   "source": [
    "# 17. Write a method to verify if the array contains two specified elements(12,23)\n",
    "def contains_both(arr):\n",
    "    return 12 in arr and 23 in arr\n",
    "print(contains_both([10, 12, 15, 23]))"
   ]
  },
  {
   "cell_type": "code",
   "execution_count": 18,
   "id": "67c2a012",
   "metadata": {},
   "outputs": [
    {
     "name": "stdout",
     "output_type": "stream",
     "text": [
      "[1, 2, 3, 4]\n"
     ]
    }
   ],
   "source": [
    "# 18. Write a program to remove the duplicate elements and return the new array\n",
    "def remove_duplicates_new_array(arr):\n",
    "    seen = set()\n",
    "    new_arr = []\n",
    "    for x in arr:\n",
    "        if x not in seen:\n",
    "            seen.add(x)\n",
    "            new_arr.append(x)\n",
    "    return new_arr\n",
    "print(remove_duplicates_new_array([1, 2, 2, 3, 4, 4]))"
   ]
  },
  {
   "cell_type": "code",
   "execution_count": null,
   "id": "30e938fb",
   "metadata": {},
   "outputs": [],
   "source": []
  }
 ],
 "metadata": {
  "kernelspec": {
   "display_name": "Python 3",
   "language": "python",
   "name": "python3"
  },
  "language_info": {
   "codemirror_mode": {
    "name": "ipython",
    "version": 3
   },
   "file_extension": ".py",
   "mimetype": "text/x-python",
   "name": "python",
   "nbconvert_exporter": "python",
   "pygments_lexer": "ipython3",
   "version": "3.12.10"
  }
 },
 "nbformat": 4,
 "nbformat_minor": 5
}
