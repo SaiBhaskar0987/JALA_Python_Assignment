{
 "cells": [
  {
   "cell_type": "code",
   "execution_count": 1,
   "id": "53fbd942",
   "metadata": {},
   "outputs": [
    {
     "name": "stdout",
     "output_type": "stream",
     "text": [
      "Bright IT Career\n",
      "Bright IT Career\n",
      "Bright IT Career\n",
      "Bright IT Career\n",
      "Bright IT Career\n",
      "Bright IT Career\n",
      "Bright IT Career\n",
      "Bright IT Career\n",
      "Bright IT Career\n",
      "Bright IT Career\n"
     ]
    }
   ],
   "source": [
    "# 1. Write a program to print “Bright IT Career” ten times using for loop\n",
    "for i in range(10):\n",
    "    print(\"Bright IT Career\")"
   ]
  },
  {
   "cell_type": "code",
   "execution_count": 2,
   "id": "8b1afb81",
   "metadata": {},
   "outputs": [
    {
     "name": "stdout",
     "output_type": "stream",
     "text": [
      "1 2 3 4 5 6 7 8 9 10 11 12 13 14 15 16 17 18 19 20 \n"
     ]
    }
   ],
   "source": [
    "# 2. Write a python program to print 1 to 20 numbers using the while loop\n",
    "i = 1\n",
    "while i <= 20:\n",
    "    print(i, end=\" \")\n",
    "    i += 1\n",
    "print()"
   ]
  },
  {
   "cell_type": "code",
   "execution_count": 3,
   "id": "a8a52e80",
   "metadata": {},
   "outputs": [
    {
     "name": "stdout",
     "output_type": "stream",
     "text": [
      "Equal: False\n",
      "Not Equal: True\n"
     ]
    }
   ],
   "source": [
    "# 3. Program to equal operator and not equal operators\n",
    "a = 10\n",
    "b = 20\n",
    "print(\"Equal:\", a == b)\n",
    "print(\"Not Equal:\", a != b)"
   ]
  },
  {
   "cell_type": "code",
   "execution_count": 4,
   "id": "72a68911",
   "metadata": {},
   "outputs": [
    {
     "name": "stdout",
     "output_type": "stream",
     "text": [
      "1 is Odd\n",
      "2 is Even\n",
      "3 is Odd\n",
      "4 is Even\n",
      "5 is Odd\n",
      "6 is Even\n",
      "7 is Odd\n",
      "8 is Even\n",
      "9 is Odd\n",
      "10 is Even\n",
      "11 is Odd\n",
      "12 is Even\n",
      "13 is Odd\n",
      "14 is Even\n",
      "15 is Odd\n",
      "16 is Even\n",
      "17 is Odd\n",
      "18 is Even\n",
      "19 is Odd\n",
      "20 is Even\n"
     ]
    }
   ],
   "source": [
    "# 4. Write a program to print the odd and even numbers\n",
    "for i in range(1, 21):\n",
    "    if i % 2 == 0:\n",
    "        print(f\"{i} is Even\")\n",
    "    else:\n",
    "        print(f\"{i} is Odd\")"
   ]
  },
  {
   "cell_type": "code",
   "execution_count": 5,
   "id": "f84dae29",
   "metadata": {},
   "outputs": [
    {
     "name": "stdout",
     "output_type": "stream",
     "text": [
      "Largest: 25\n"
     ]
    }
   ],
   "source": [
    "# 5. Write a program to print largest number among three numbers\n",
    "a = 10\n",
    "b = 25\n",
    "c = 15\n",
    "if a >= b and a >= c:\n",
    "    print(\"Largest:\", a)\n",
    "elif b >= c:\n",
    "    print(\"Largest:\", b)\n",
    "else:\n",
    "    print(\"Largest:\", c)"
   ]
  },
  {
   "cell_type": "code",
   "execution_count": 6,
   "id": "7f94bda9",
   "metadata": {},
   "outputs": [
    {
     "name": "stdout",
     "output_type": "stream",
     "text": [
      "10\n",
      "12\n",
      "14\n",
      "16\n",
      "18\n",
      "20\n"
     ]
    }
   ],
   "source": [
    "# 6. Write a program to print even number between 10 and 20 using while\n",
    "i = 10\n",
    "while i <= 20:\n",
    "    if i % 2 == 0:\n",
    "        print(i)\n",
    "    i += 1"
   ]
  },
  {
   "cell_type": "code",
   "execution_count": 7,
   "id": "779374e9",
   "metadata": {},
   "outputs": [
    {
     "name": "stdout",
     "output_type": "stream",
     "text": [
      "1 2 3 4 5 6 7 8 9 10 \n"
     ]
    }
   ],
   "source": [
    "# 7. Write a program to print 1 to 10 using the do-while loop statement\n",
    "i = 1\n",
    "while True:\n",
    "    print(i, end=\" \")\n",
    "    i += 1\n",
    "    if i > 10:\n",
    "        break\n",
    "print()"
   ]
  },
  {
   "cell_type": "code",
   "execution_count": 8,
   "id": "73431e8b",
   "metadata": {},
   "outputs": [
    {
     "name": "stdout",
     "output_type": "stream",
     "text": [
      "Armstrong Number\n"
     ]
    }
   ],
   "source": [
    "# 8. Write a program to find Armstrong number or not\n",
    "num = 153\n",
    "temp = num\n",
    "sum_of_cubes = 0\n",
    "while temp > 0:\n",
    "    digit = temp % 10\n",
    "    sum_of_cubes += digit ** 3\n",
    "    temp //= 10\n",
    "if num == sum_of_cubes:\n",
    "    print(\"Armstrong Number\")\n",
    "else:\n",
    "    print(\"Not an Armstrong Number\")"
   ]
  },
  {
   "cell_type": "code",
   "execution_count": 9,
   "id": "797222c0",
   "metadata": {},
   "outputs": [
    {
     "name": "stdout",
     "output_type": "stream",
     "text": [
      "Prime Number\n"
     ]
    }
   ],
   "source": [
    "# 9. Write a program to find the prime or not\n",
    "num = 17\n",
    "if num > 1:\n",
    "    for i in range(2, int(num ** 0.5) + 1):\n",
    "        if num % i == 0:\n",
    "            print(\"Not a Prime Number\")\n",
    "            break\n",
    "    else:\n",
    "        print(\"Prime Number\")\n",
    "else:\n",
    "    print(\"Not a Prime Number\")"
   ]
  },
  {
   "cell_type": "code",
   "execution_count": 10,
   "id": "933bdd39",
   "metadata": {},
   "outputs": [
    {
     "name": "stdout",
     "output_type": "stream",
     "text": [
      "Palindrome\n"
     ]
    }
   ],
   "source": [
    "# 10. Write a program to palindrome or not\n",
    "num = 121\n",
    "rev = int(str(num)[::-1])\n",
    "if num == rev:\n",
    "    print(\"Palindrome\")\n",
    "else:\n",
    "    print(\"Not a Palindrome\")"
   ]
  },
  {
   "cell_type": "code",
   "execution_count": 11,
   "id": "8e99f546",
   "metadata": {},
   "outputs": [
    {
     "name": "stdout",
     "output_type": "stream",
     "text": [
      "Even Number\n"
     ]
    }
   ],
   "source": [
    "# 11. Program to check whether a number is EVEN or ODD using match (Python 3.10+)\n",
    "num = 4\n",
    "match num % 2:\n",
    "    case 0:\n",
    "        print(\"Even Number\")\n",
    "    case 1:\n",
    "        print(\"Odd Number\")"
   ]
  },
  {
   "cell_type": "code",
   "execution_count": 12,
   "id": "0c7f7c3d",
   "metadata": {},
   "outputs": [
    {
     "name": "stdout",
     "output_type": "stream",
     "text": [
      "Female\n"
     ]
    }
   ],
   "source": [
    "# 12. Print gender (Male/Female) program according to given M/F using match (Python 3.10+)\n",
    "gender = 'F'\n",
    "match gender.upper():\n",
    "    case 'M':\n",
    "        print(\"Male\")\n",
    "    case 'F':\n",
    "        print(\"Female\")\n",
    "    case _:\n",
    "        print(\"Invalid Input\")"
   ]
  }
 ],
 "metadata": {
  "kernelspec": {
   "display_name": "Python 3",
   "language": "python",
   "name": "python3"
  },
  "language_info": {
   "codemirror_mode": {
    "name": "ipython",
    "version": 3
   },
   "file_extension": ".py",
   "mimetype": "text/x-python",
   "name": "python",
   "nbconvert_exporter": "python",
   "pygments_lexer": "ipython3",
   "version": "3.12.10"
  }
 },
 "nbformat": 4,
 "nbformat_minor": 5
}
