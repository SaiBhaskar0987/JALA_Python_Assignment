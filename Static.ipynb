{
 "cells": [
  {
   "cell_type": "code",
   "execution_count": 1,
   "id": "ffd3e150",
   "metadata": {},
   "outputs": [
    {
     "name": "stdout",
     "output_type": "stream",
     "text": [
      "10\n"
     ]
    }
   ],
   "source": [
    "# 1. Define a static variable and access that through a class  \n",
    "class MyClass1:\n",
    "    static_var = 10\n",
    "\n",
    "print(MyClass1.static_var)"
   ]
  },
  {
   "cell_type": "code",
   "execution_count": 2,
   "id": "23327974",
   "metadata": {},
   "outputs": [
    {
     "name": "stdout",
     "output_type": "stream",
     "text": [
      "20\n"
     ]
    }
   ],
   "source": [
    "# 2. Define a static variable and access that through an instance  \n",
    "class MyClass2:\n",
    "    static_var = 20\n",
    "\n",
    "obj2 = MyClass2()\n",
    "print(obj2.static_var)"
   ]
  },
  {
   "cell_type": "code",
   "execution_count": 3,
   "id": "babf2ed2",
   "metadata": {},
   "outputs": [
    {
     "name": "stdout",
     "output_type": "stream",
     "text": [
      "30\n",
      "300\n"
     ]
    }
   ],
   "source": [
    "# 3. Define a static variable and change within the instance  \n",
    "class MyClass3:\n",
    "    static_var = 30\n",
    "\n",
    "obj3 = MyClass3()\n",
    "obj3.static_var = 300\n",
    "print(MyClass3.static_var)  # remains unchanged\n",
    "print(obj3.static_var)      # instance variable hides class variable"
   ]
  },
  {
   "cell_type": "code",
   "execution_count": 4,
   "id": "8be131a9",
   "metadata": {},
   "outputs": [
    {
     "name": "stdout",
     "output_type": "stream",
     "text": [
      "400\n",
      "400\n"
     ]
    }
   ],
   "source": [
    "# 4. Define a static variable and change within the class  \n",
    "class MyClass4:\n",
    "    static_var = 40\n",
    "\n",
    "MyClass4.static_var = 400\n",
    "print(MyClass4.static_var)\n",
    "\n",
    "obj4 = MyClass4()\n",
    "print(obj4.static_var)"
   ]
  }
 ],
 "metadata": {
  "kernelspec": {
   "display_name": "Python 3",
   "language": "python",
   "name": "python3"
  },
  "language_info": {
   "codemirror_mode": {
    "name": "ipython",
    "version": 3
   },
   "file_extension": ".py",
   "mimetype": "text/x-python",
   "name": "python",
   "nbconvert_exporter": "python",
   "pygments_lexer": "ipython3",
   "version": "3.12.10"
  }
 },
 "nbformat": 4,
 "nbformat_minor": 5
}
