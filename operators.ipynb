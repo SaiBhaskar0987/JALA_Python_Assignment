{
 "cells": [
  {
   "cell_type": "code",
   "execution_count": 1,
   "id": "a688b6cc",
   "metadata": {},
   "outputs": [
    {
     "name": "stdout",
     "output_type": "stream",
     "text": [
      "Addition: 15\n",
      "Subtraction: 5\n",
      "Multiplication: 50\n",
      "Division: 2.0\n"
     ]
    }
   ],
   "source": [
    "#1. Write a function for arithmetic operators(+,-,*,/) \n",
    "\n",
    "def arithmetic_ops(a, b):\n",
    "    return a + b, a - b, a * b, a / b if b != 0 else None\n",
    "\n",
    "a = 10\n",
    "b = 5\n",
    "add, sub, mul, div = arithmetic_ops(a, b)\n",
    "print(\"Addition:\", add)\n",
    "print(\"Subtraction:\", sub)\n",
    "print(\"Multiplication:\", mul)\n",
    "print(\"Division:\", div)\n"
   ]
  },
  {
   "cell_type": "code",
   "execution_count": 2,
   "id": "5d60cb37",
   "metadata": {},
   "outputs": [
    {
     "name": "stdout",
     "output_type": "stream",
     "text": [
      "Result after increment and decrement: 6\n"
     ]
    }
   ],
   "source": [
    "# 2. Write a method for increment and decrement operators(++, --) \n",
    "\n",
    "def inc_dec_ops(x):\n",
    "    x += 1\n",
    "    x -= 2\n",
    "    return x\n",
    "\n",
    "x = 7\n",
    "result = inc_dec_ops(x)\n",
    "print(\"Result after increment and decrement:\", result)"
   ]
  },
  {
   "cell_type": "code",
   "execution_count": 5,
   "id": "00b9e86e",
   "metadata": {},
   "outputs": [
    {
     "name": "stdout",
     "output_type": "stream",
     "text": [
      "Equal: True\n"
     ]
    }
   ],
   "source": [
    "# 3. Write a program to find the two numbers equal or not.\n",
    "def check_equality(a, b):\n",
    "    return a == b\n",
    "\n",
    "a = 10\n",
    "b = 10\n",
    "equal = check_equality(a, b)\n",
    "print(\"Equal:\", equal)"
   ]
  },
  {
   "cell_type": "code",
   "execution_count": 6,
   "id": "a50bd790",
   "metadata": {},
   "outputs": [
    {
     "name": "stdout",
     "output_type": "stream",
     "text": [
      "Less than: False\n",
      "Less than or equal: False\n",
      "Greater than: True\n",
      "Greater than or equal: True\n"
     ]
    }
   ],
   "source": [
    "# 4. Program for relational operators (<,<==, >, >==) \n",
    "\n",
    "def relational_ops(a, b):\n",
    "    return a < b, a <= b, a > b, a >= b\n",
    "\n",
    "a = 10\n",
    "b = 5\n",
    "lt, le, gt, ge = relational_ops(a, b)\n",
    "print(\"Less than:\", lt)\n",
    "print(\"Less than or equal:\", le)\n",
    "print(\"Greater than:\", gt)\n",
    "print(\"Greater than or equal:\", ge)"
   ]
  },
  {
   "cell_type": "code",
   "execution_count": 7,
   "id": "64817e24",
   "metadata": {},
   "outputs": [
    {
     "name": "stdout",
     "output_type": "stream",
     "text": [
      "Smaller number: 5\n",
      "Larger number: 10\n"
     ]
    }
   ],
   "source": [
    "# 5. Print the smaller and larger number\n",
    "\n",
    "def min_max(a, b):\n",
    "    return min(a, b), max(a, b)\n",
    "\n",
    "a = 10\n",
    "b = 5\n",
    "smaller, larger = min_max(a, b)\n",
    "print(\"Smaller number:\", smaller)\n",
    "print(\"Larger number:\", larger)"
   ]
  }
 ],
 "metadata": {
  "kernelspec": {
   "display_name": "Python 3",
   "language": "python",
   "name": "python3"
  },
  "language_info": {
   "codemirror_mode": {
    "name": "ipython",
    "version": 3
   },
   "file_extension": ".py",
   "mimetype": "text/x-python",
   "name": "python",
   "nbconvert_exporter": "python",
   "pygments_lexer": "ipython3",
   "version": "3.12.10"
  }
 },
 "nbformat": 4,
 "nbformat_minor": 5
}
