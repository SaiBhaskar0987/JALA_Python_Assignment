{
 "cells": [
  {
   "cell_type": "code",
   "execution_count": 1,
   "id": "b120cab0",
   "metadata": {},
   "outputs": [
    {
     "name": "stdout",
     "output_type": "stream",
     "text": [
      "Sai Bhaskar\n"
     ]
    }
   ],
   "source": [
    "# 1. Write a program to print your name.\n",
    "print(input(\"Enter your name: \"))"
   ]
  },
  {
   "cell_type": "code",
   "execution_count": 5,
   "id": "48a85986",
   "metadata": {},
   "outputs": [
    {
     "name": "stdout",
     "output_type": "stream",
     "text": [
      "Single line comment will be '#' SYMBOL\n",
      "Multiline Comment will be in triple quotes\n"
     ]
    },
    {
     "data": {
      "text/plain": [
       "'for example :\\n2. Write a program for a Single line comment and multi-line comments \\n3. Define variables for different Data Types int, Boolean, char, float, double and print on the \\nConsole. \\n4. Define the local and Global variables with the same name and print both variables and \\nunderstand the scope of the variables'"
      ]
     },
     "execution_count": 5,
     "metadata": {},
     "output_type": "execute_result"
    }
   ],
   "source": [
    "\n",
    "#2. Write a program for a Single line comment and multi-line comments \n",
    "\n",
    "print(\"Single line comment will be '#' SYMBOL\")\n",
    "print(\"Multiline Comment will be in triple quotes\")\n",
    "\"\"\"for example :\n",
    "2. Write a program for a Single line comment and multi-line comments \n",
    "3. Define variables for different Data Types int, Boolean, char, float, double and print on the \n",
    "Console. \n",
    "4. Define the local and Global variables with the same name and print both variables and \n",
    "understand the scope of the variables\"\"\""
   ]
  },
  {
   "cell_type": "code",
   "execution_count": 12,
   "id": "0a406134",
   "metadata": {},
   "outputs": [
    {
     "name": "stdout",
     "output_type": "stream",
     "text": [
      "10 <class 'int'>\n",
      "10.0 <class 'float'>\n",
      "Static <class 'str'>\n",
      "True <class 'bool'>\n"
     ]
    }
   ],
   "source": [
    "\"\"\"3. Define variables for different Data Types int, Boolean, char, float, double and print on the \n",
    "Console. \"\"\"\n",
    "\n",
    "a = 10\n",
    "b = 10.0\n",
    "c = \"Static\"\n",
    "d = True\n",
    "print(a, type(a))\n",
    "print(b, type(b))\n",
    "print(c, type(c))\n",
    "print(d, type(d))"
   ]
  },
  {
   "cell_type": "code",
   "execution_count": 14,
   "id": "b4751c29",
   "metadata": {},
   "outputs": [
    {
     "name": "stdout",
     "output_type": "stream",
     "text": [
      "inside func: bad\n",
      "outside func:  good\n"
     ]
    }
   ],
   "source": [
    "\"\"\"4. Define the local and Global variables with the same name and print both variables and \n",
    "understand the scope of the variables\"\"\"\n",
    "\n",
    "sai = \"good\" # global variable\n",
    "def func():\n",
    "    sai = \"bad\" # local variable\n",
    "    print(\"inside func:\", sai)\n",
    "\n",
    "func()\n",
    "print(\"outside func: \",sai)"
   ]
  }
 ],
 "metadata": {
  "kernelspec": {
   "display_name": "Python 3",
   "language": "python",
   "name": "python3"
  },
  "language_info": {
   "codemirror_mode": {
    "name": "ipython",
    "version": 3
   },
   "file_extension": ".py",
   "mimetype": "text/x-python",
   "name": "python",
   "nbconvert_exporter": "python",
   "pygments_lexer": "ipython3",
   "version": "3.12.10"
  }
 },
 "nbformat": 4,
 "nbformat_minor": 5
}
